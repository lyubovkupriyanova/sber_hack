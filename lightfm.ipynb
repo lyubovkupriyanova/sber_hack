{
 "cells": [
  {
   "cell_type": "code",
   "execution_count": 1,
   "metadata": {
    "ExecuteTime": {
     "end_time": "2018-07-01T15:18:18.905289Z",
     "start_time": "2018-07-01T15:18:18.899944Z"
    }
   },
   "outputs": [],
   "source": [
    "import os\n",
    "os.environ['OPENBLAS_NUM_THREADS'] = '1'\n",
    "os.environ['OMP_NUM_THREADS'] = '1'"
   ]
  },
  {
   "cell_type": "code",
   "execution_count": 2,
   "metadata": {
    "ExecuteTime": {
     "end_time": "2018-07-01T15:18:19.302277Z",
     "start_time": "2018-07-01T15:18:18.907606Z"
    }
   },
   "outputs": [
    {
     "name": "stderr",
     "output_type": "stream",
     "text": [
      "/Users/liubovkupriianova/opt/anaconda3/envs/py36/lib/python3.6/site-packages/lightfm/_lightfm_fast.py:9: UserWarning: LightFM was compiled without OpenMP support. Only a single thread will be used.\n",
      "  warnings.warn('LightFM was compiled without OpenMP support. Only a single thread will be used.')  # NOQA\n"
     ]
    }
   ],
   "source": [
    "import os\n",
    "\n",
    "import numpy as np\n",
    "import pandas as pd\n",
    "import scipy.sparse as sp\n",
    "\n",
    "from lightfm import LightFM"
   ]
  },
  {
   "cell_type": "code",
   "execution_count": 3,
   "metadata": {
    "ExecuteTime": {
     "end_time": "2018-07-01T15:18:19.416728Z",
     "start_time": "2018-07-01T15:18:19.304010Z"
    }
   },
   "outputs": [],
   "source": [
    "!mkdir models"
   ]
  },
  {
   "cell_type": "code",
   "execution_count": 46,
   "metadata": {},
   "outputs": [],
   "source": [
    "train_target = pd.read_pickle('dataset_v2.uu')"
   ]
  },
  {
   "cell_type": "code",
   "execution_count": 43,
   "metadata": {},
   "outputs": [],
   "source": [
    "train = pd.read_pickle('user_prod.pkl')"
   ]
  },
  {
   "cell_type": "code",
   "execution_count": 51,
   "metadata": {},
   "outputs": [],
   "source": [
    "train = pd.DataFrame(train)"
   ]
  },
  {
   "cell_type": "code",
   "execution_count": 56,
   "metadata": {},
   "outputs": [],
   "source": [
    "items_feats = pd.read_pickle('prod.pkl')"
   ]
  },
  {
   "cell_type": "code",
   "execution_count": 53,
   "metadata": {},
   "outputs": [],
   "source": [
    "train.columns = ['all_prods']"
   ]
  },
  {
   "cell_type": "code",
   "execution_count": 54,
   "metadata": {},
   "outputs": [],
   "source": [
    "train_target = train_target.merge(train, on='user_id')"
   ]
  },
  {
   "cell_type": "code",
   "execution_count": 58,
   "metadata": {},
   "outputs": [],
   "source": [
    "train = train_target"
   ]
  },
  {
   "cell_type": "code",
   "execution_count": 59,
   "metadata": {},
   "outputs": [
    {
     "data": {
      "text/html": [
       "<div>\n",
       "<style scoped>\n",
       "    .dataframe tbody tr th:only-of-type {\n",
       "        vertical-align: middle;\n",
       "    }\n",
       "\n",
       "    .dataframe tbody tr th {\n",
       "        vertical-align: top;\n",
       "    }\n",
       "\n",
       "    .dataframe thead th {\n",
       "        text-align: right;\n",
       "    }\n",
       "</style>\n",
       "<table border=\"1\" class=\"dataframe\">\n",
       "  <thead>\n",
       "    <tr style=\"text-align: right;\">\n",
       "      <th></th>\n",
       "      <th>user_id</th>\n",
       "      <th>features</th>\n",
       "      <th>target_ids</th>\n",
       "      <th>all_prods</th>\n",
       "    </tr>\n",
       "  </thead>\n",
       "  <tbody>\n",
       "    <tr>\n",
       "      <th>0</th>\n",
       "      <td>260</td>\n",
       "      <td>[74.0, 51.0, 90.0, 13487.0, 66893.0, 5469736.0...</td>\n",
       "      <td>[66893, 158, 709]</td>\n",
       "      <td>[66893, 9496, 64615, 5469736, 13487, 10163, 0]</td>\n",
       "    </tr>\n",
       "    <tr>\n",
       "      <th>1</th>\n",
       "      <td>353</td>\n",
       "      <td>[90.0, 35.0, 9.0, 105764.0, 87886.0, 69372.0, ...</td>\n",
       "      <td>[2321, 2322, 407, 478, 80460, 69669]</td>\n",
       "      <td>[7071972, 97945, 478, 20269, 4443, 584, 57342,...</td>\n",
       "    </tr>\n",
       "    <tr>\n",
       "      <th>2</th>\n",
       "      <td>400</td>\n",
       "      <td>[84.0, 35.0, 20.0, 3817507.0, 0.0, 94333.0, 11...</td>\n",
       "      <td>[61053, 981, 177, 20286, 20289, 10198]</td>\n",
       "      <td>[94333, 5469728, 3817507, 45459, 407, 61053, 3...</td>\n",
       "    </tr>\n",
       "    <tr>\n",
       "      <th>3</th>\n",
       "      <td>525</td>\n",
       "      <td>[84.0, 90.0, 20.0, 709.0, 166.0, 55133.0, 75.6...</td>\n",
       "      <td>[709, 25645, 57174]</td>\n",
       "      <td>[709, 7397, 55133, 3817484, 166]</td>\n",
       "    </tr>\n",
       "    <tr>\n",
       "      <th>4</th>\n",
       "      <td>576</td>\n",
       "      <td>[20.0, 9.0, 119.0, 177.0, 2600.0, 10757.0, 103...</td>\n",
       "      <td>[177, 102]</td>\n",
       "      <td>[2600, 177, 7064842, 60105, 52657, 0, 4443, 10...</td>\n",
       "    </tr>\n",
       "  </tbody>\n",
       "</table>\n",
       "</div>"
      ],
      "text/plain": [
       "   user_id                                           features  \\\n",
       "0      260  [74.0, 51.0, 90.0, 13487.0, 66893.0, 5469736.0...   \n",
       "1      353  [90.0, 35.0, 9.0, 105764.0, 87886.0, 69372.0, ...   \n",
       "2      400  [84.0, 35.0, 20.0, 3817507.0, 0.0, 94333.0, 11...   \n",
       "3      525  [84.0, 90.0, 20.0, 709.0, 166.0, 55133.0, 75.6...   \n",
       "4      576  [20.0, 9.0, 119.0, 177.0, 2600.0, 10757.0, 103...   \n",
       "\n",
       "                               target_ids  \\\n",
       "0                       [66893, 158, 709]   \n",
       "1    [2321, 2322, 407, 478, 80460, 69669]   \n",
       "2  [61053, 981, 177, 20286, 20289, 10198]   \n",
       "3                     [709, 25645, 57174]   \n",
       "4                              [177, 102]   \n",
       "\n",
       "                                           all_prods  \n",
       "0     [66893, 9496, 64615, 5469736, 13487, 10163, 0]  \n",
       "1  [7071972, 97945, 478, 20269, 4443, 584, 57342,...  \n",
       "2  [94333, 5469728, 3817507, 45459, 407, 61053, 3...  \n",
       "3                   [709, 7397, 55133, 3817484, 166]  \n",
       "4  [2600, 177, 7064842, 60105, 52657, 0, 4443, 10...  "
      ]
     },
     "execution_count": 59,
     "metadata": {},
     "output_type": "execute_result"
    }
   ],
   "source": [
    "train.head()"
   ]
  },
  {
   "cell_type": "code",
   "execution_count": 60,
   "metadata": {},
   "outputs": [],
   "source": [
    "train['num_targets'] = train['all_prods'].apply(lambda x: len(x))"
   ]
  },
  {
   "cell_type": "code",
   "execution_count": 61,
   "metadata": {},
   "outputs": [
    {
     "data": {
      "text/html": [
       "<div>\n",
       "<style scoped>\n",
       "    .dataframe tbody tr th:only-of-type {\n",
       "        vertical-align: middle;\n",
       "    }\n",
       "\n",
       "    .dataframe tbody tr th {\n",
       "        vertical-align: top;\n",
       "    }\n",
       "\n",
       "    .dataframe thead th {\n",
       "        text-align: right;\n",
       "    }\n",
       "</style>\n",
       "<table border=\"1\" class=\"dataframe\">\n",
       "  <thead>\n",
       "    <tr style=\"text-align: right;\">\n",
       "      <th></th>\n",
       "      <th>user_id</th>\n",
       "      <th>features</th>\n",
       "      <th>target_ids</th>\n",
       "      <th>all_prods</th>\n",
       "      <th>num_targets</th>\n",
       "    </tr>\n",
       "  </thead>\n",
       "  <tbody>\n",
       "    <tr>\n",
       "      <th>0</th>\n",
       "      <td>260</td>\n",
       "      <td>[74.0, 51.0, 90.0, 13487.0, 66893.0, 5469736.0...</td>\n",
       "      <td>[66893, 158, 709]</td>\n",
       "      <td>[66893, 9496, 64615, 5469736, 13487, 10163, 0]</td>\n",
       "      <td>7</td>\n",
       "    </tr>\n",
       "    <tr>\n",
       "      <th>1</th>\n",
       "      <td>353</td>\n",
       "      <td>[90.0, 35.0, 9.0, 105764.0, 87886.0, 69372.0, ...</td>\n",
       "      <td>[2321, 2322, 407, 478, 80460, 69669]</td>\n",
       "      <td>[7071972, 97945, 478, 20269, 4443, 584, 57342,...</td>\n",
       "      <td>52</td>\n",
       "    </tr>\n",
       "    <tr>\n",
       "      <th>2</th>\n",
       "      <td>400</td>\n",
       "      <td>[84.0, 35.0, 20.0, 3817507.0, 0.0, 94333.0, 11...</td>\n",
       "      <td>[61053, 981, 177, 20286, 20289, 10198]</td>\n",
       "      <td>[94333, 5469728, 3817507, 45459, 407, 61053, 3...</td>\n",
       "      <td>31</td>\n",
       "    </tr>\n",
       "    <tr>\n",
       "      <th>3</th>\n",
       "      <td>525</td>\n",
       "      <td>[84.0, 90.0, 20.0, 709.0, 166.0, 55133.0, 75.6...</td>\n",
       "      <td>[709, 25645, 57174]</td>\n",
       "      <td>[709, 7397, 55133, 3817484, 166]</td>\n",
       "      <td>5</td>\n",
       "    </tr>\n",
       "    <tr>\n",
       "      <th>4</th>\n",
       "      <td>576</td>\n",
       "      <td>[20.0, 9.0, 119.0, 177.0, 2600.0, 10757.0, 103...</td>\n",
       "      <td>[177, 102]</td>\n",
       "      <td>[2600, 177, 7064842, 60105, 52657, 0, 4443, 10...</td>\n",
       "      <td>29</td>\n",
       "    </tr>\n",
       "  </tbody>\n",
       "</table>\n",
       "</div>"
      ],
      "text/plain": [
       "   user_id                                           features  \\\n",
       "0      260  [74.0, 51.0, 90.0, 13487.0, 66893.0, 5469736.0...   \n",
       "1      353  [90.0, 35.0, 9.0, 105764.0, 87886.0, 69372.0, ...   \n",
       "2      400  [84.0, 35.0, 20.0, 3817507.0, 0.0, 94333.0, 11...   \n",
       "3      525  [84.0, 90.0, 20.0, 709.0, 166.0, 55133.0, 75.6...   \n",
       "4      576  [20.0, 9.0, 119.0, 177.0, 2600.0, 10757.0, 103...   \n",
       "\n",
       "                               target_ids  \\\n",
       "0                       [66893, 158, 709]   \n",
       "1    [2321, 2322, 407, 478, 80460, 69669]   \n",
       "2  [61053, 981, 177, 20286, 20289, 10198]   \n",
       "3                     [709, 25645, 57174]   \n",
       "4                              [177, 102]   \n",
       "\n",
       "                                           all_prods  num_targets  \n",
       "0     [66893, 9496, 64615, 5469736, 13487, 10163, 0]            7  \n",
       "1  [7071972, 97945, 478, 20269, 4443, 584, 57342,...           52  \n",
       "2  [94333, 5469728, 3817507, 45459, 407, 61053, 3...           31  \n",
       "3                   [709, 7397, 55133, 3817484, 166]            5  \n",
       "4  [2600, 177, 7064842, 60105, 52657, 0, 4443, 10...           29  "
      ]
     },
     "execution_count": 61,
     "metadata": {},
     "output_type": "execute_result"
    }
   ],
   "source": [
    "train.head()"
   ]
  },
  {
   "cell_type": "code",
   "execution_count": 62,
   "metadata": {},
   "outputs": [],
   "source": [
    "#train['user_ids'] = train['user_id'].apply(lambda x: x.index)\n",
    "#list(train['num_targets'])"
   ]
  },
  {
   "cell_type": "code",
   "execution_count": 63,
   "metadata": {},
   "outputs": [],
   "source": [
    "user_ids = np.array(train.user_id.repeat(list(train['num_targets'])))"
   ]
  },
  {
   "cell_type": "code",
   "execution_count": 64,
   "metadata": {},
   "outputs": [
    {
     "data": {
      "text/plain": [
       "array([    260,     260,     260, ..., 1131904, 1131904, 1131904])"
      ]
     },
     "execution_count": 64,
     "metadata": {},
     "output_type": "execute_result"
    }
   ],
   "source": [
    "user_ids"
   ]
  },
  {
   "cell_type": "code",
   "execution_count": 65,
   "metadata": {},
   "outputs": [
    {
     "data": {
      "text/html": [
       "<div>\n",
       "<style scoped>\n",
       "    .dataframe tbody tr th:only-of-type {\n",
       "        vertical-align: middle;\n",
       "    }\n",
       "\n",
       "    .dataframe tbody tr th {\n",
       "        vertical-align: top;\n",
       "    }\n",
       "\n",
       "    .dataframe thead th {\n",
       "        text-align: right;\n",
       "    }\n",
       "</style>\n",
       "<table border=\"1\" class=\"dataframe\">\n",
       "  <thead>\n",
       "    <tr style=\"text-align: right;\">\n",
       "      <th></th>\n",
       "      <th>user_id</th>\n",
       "      <th>features</th>\n",
       "      <th>target_ids</th>\n",
       "      <th>all_prods</th>\n",
       "      <th>num_targets</th>\n",
       "    </tr>\n",
       "  </thead>\n",
       "  <tbody>\n",
       "    <tr>\n",
       "      <th>0</th>\n",
       "      <td>260</td>\n",
       "      <td>[74.0, 51.0, 90.0, 13487.0, 66893.0, 5469736.0...</td>\n",
       "      <td>[66893, 158, 709]</td>\n",
       "      <td>[66893, 9496, 64615, 5469736, 13487, 10163, 0]</td>\n",
       "      <td>7</td>\n",
       "    </tr>\n",
       "    <tr>\n",
       "      <th>1</th>\n",
       "      <td>353</td>\n",
       "      <td>[90.0, 35.0, 9.0, 105764.0, 87886.0, 69372.0, ...</td>\n",
       "      <td>[2321, 2322, 407, 478, 80460, 69669]</td>\n",
       "      <td>[7071972, 97945, 478, 20269, 4443, 584, 57342,...</td>\n",
       "      <td>52</td>\n",
       "    </tr>\n",
       "    <tr>\n",
       "      <th>2</th>\n",
       "      <td>400</td>\n",
       "      <td>[84.0, 35.0, 20.0, 3817507.0, 0.0, 94333.0, 11...</td>\n",
       "      <td>[61053, 981, 177, 20286, 20289, 10198]</td>\n",
       "      <td>[94333, 5469728, 3817507, 45459, 407, 61053, 3...</td>\n",
       "      <td>31</td>\n",
       "    </tr>\n",
       "    <tr>\n",
       "      <th>3</th>\n",
       "      <td>525</td>\n",
       "      <td>[84.0, 90.0, 20.0, 709.0, 166.0, 55133.0, 75.6...</td>\n",
       "      <td>[709, 25645, 57174]</td>\n",
       "      <td>[709, 7397, 55133, 3817484, 166]</td>\n",
       "      <td>5</td>\n",
       "    </tr>\n",
       "    <tr>\n",
       "      <th>4</th>\n",
       "      <td>576</td>\n",
       "      <td>[20.0, 9.0, 119.0, 177.0, 2600.0, 10757.0, 103...</td>\n",
       "      <td>[177, 102]</td>\n",
       "      <td>[2600, 177, 7064842, 60105, 52657, 0, 4443, 10...</td>\n",
       "      <td>29</td>\n",
       "    </tr>\n",
       "  </tbody>\n",
       "</table>\n",
       "</div>"
      ],
      "text/plain": [
       "   user_id                                           features  \\\n",
       "0      260  [74.0, 51.0, 90.0, 13487.0, 66893.0, 5469736.0...   \n",
       "1      353  [90.0, 35.0, 9.0, 105764.0, 87886.0, 69372.0, ...   \n",
       "2      400  [84.0, 35.0, 20.0, 3817507.0, 0.0, 94333.0, 11...   \n",
       "3      525  [84.0, 90.0, 20.0, 709.0, 166.0, 55133.0, 75.6...   \n",
       "4      576  [20.0, 9.0, 119.0, 177.0, 2600.0, 10757.0, 103...   \n",
       "\n",
       "                               target_ids  \\\n",
       "0                       [66893, 158, 709]   \n",
       "1    [2321, 2322, 407, 478, 80460, 69669]   \n",
       "2  [61053, 981, 177, 20286, 20289, 10198]   \n",
       "3                     [709, 25645, 57174]   \n",
       "4                              [177, 102]   \n",
       "\n",
       "                                           all_prods  num_targets  \n",
       "0     [66893, 9496, 64615, 5469736, 13487, 10163, 0]            7  \n",
       "1  [7071972, 97945, 478, 20269, 4443, 584, 57342,...           52  \n",
       "2  [94333, 5469728, 3817507, 45459, 407, 61053, 3...           31  \n",
       "3                   [709, 7397, 55133, 3817484, 166]            5  \n",
       "4  [2600, 177, 7064842, 60105, 52657, 0, 4443, 10...           29  "
      ]
     },
     "execution_count": 65,
     "metadata": {},
     "output_type": "execute_result"
    }
   ],
   "source": [
    "train.head()"
   ]
  },
  {
   "cell_type": "code",
   "execution_count": 66,
   "metadata": {},
   "outputs": [],
   "source": [
    "products_id_concated = np.concatenate(train.all_prods)"
   ]
  },
  {
   "cell_type": "code",
   "execution_count": 69,
   "metadata": {},
   "outputs": [],
   "source": [
    "product_ids_unique = np.unique(np.concatenate(train.all_prods))"
   ]
  },
  {
   "cell_type": "code",
   "execution_count": 74,
   "metadata": {},
   "outputs": [
    {
     "data": {
      "text/plain": [
       "LabelEncoder()"
      ]
     },
     "execution_count": 74,
     "metadata": {},
     "output_type": "execute_result"
    }
   ],
   "source": [
    "from sklearn import preprocessing\n",
    "le = preprocessing.LabelEncoder()\n",
    "le.fit(products_id_concated)"
   ]
  },
  {
   "cell_type": "code",
   "execution_count": 75,
   "metadata": {},
   "outputs": [
    {
     "data": {
      "text/plain": [
       "734"
      ]
     },
     "execution_count": 75,
     "metadata": {},
     "output_type": "execute_result"
    }
   ],
   "source": [
    "len(le.classes_)"
   ]
  },
  {
   "cell_type": "code",
   "execution_count": 76,
   "metadata": {},
   "outputs": [],
   "source": [
    "products_id_concated = le.transform(products_id_concated)"
   ]
  },
  {
   "cell_type": "code",
   "execution_count": 77,
   "metadata": {},
   "outputs": [
    {
     "data": {
      "text/plain": [
       "array([442, 135, 437, ...,   9,  78,  80])"
      ]
     },
     "execution_count": 77,
     "metadata": {},
     "output_type": "execute_result"
    }
   ],
   "source": [
    "products_id_concated"
   ]
  },
  {
   "cell_type": "code",
   "execution_count": 79,
   "metadata": {},
   "outputs": [],
   "source": [
    "le1 = preprocessing.LabelEncoder()\n",
    "le1.fit(user_ids)\n",
    "user_ids = le1.transform(user_ids)"
   ]
  },
  {
   "cell_type": "code",
   "execution_count": 81,
   "metadata": {
    "ExecuteTime": {
     "end_time": "2018-07-01T15:19:31.867927Z",
     "start_time": "2018-07-01T15:19:30.946052Z"
    }
   },
   "outputs": [],
   "source": [
    "X_train = sp.coo_matrix(\n",
    "    (np.ones(len(user_ids)), (user_ids, products_id_concated))\n",
    ")"
   ]
  },
  {
   "cell_type": "code",
   "execution_count": 82,
   "metadata": {},
   "outputs": [
    {
     "data": {
      "text/plain": [
       "<77700x734 sparse matrix of type '<class 'numpy.float64'>'\n",
       "\twith 2390354 stored elements in COOrdinate format>"
      ]
     },
     "execution_count": 82,
     "metadata": {},
     "output_type": "execute_result"
    }
   ],
   "source": [
    "X_train"
   ]
  },
  {
   "cell_type": "code",
   "execution_count": 85,
   "metadata": {
    "ExecuteTime": {
     "end_time": "2018-07-01T15:19:31.872173Z",
     "start_time": "2018-07-01T15:19:31.869738Z"
    }
   },
   "outputs": [],
   "source": [
    "model_path = 'models/lightfm_model_all_prods.pkl'"
   ]
  },
  {
   "cell_type": "code",
   "execution_count": 89,
   "metadata": {},
   "outputs": [],
   "source": [
    "user_features = np.array(train.features.to_list())"
   ]
  },
  {
   "cell_type": "code",
   "execution_count": 96,
   "metadata": {},
   "outputs": [
    {
     "data": {
      "text/plain": [
       "array([7.4000000e+01, 5.1000000e+01, 9.0000000e+01, 1.3487000e+04,\n",
       "       6.6893000e+04, 5.4697360e+06, 1.6225572e+02, 1.4074091e+02,\n",
       "       1.2900000e+02, 1.4285715e+00, 5.3452247e-01, 1.0000000e+00],\n",
       "      dtype=float32)"
      ]
     },
     "execution_count": 96,
     "metadata": {},
     "output_type": "execute_result"
    }
   ],
   "source": [
    "user_features[0]"
   ]
  },
  {
   "cell_type": "code",
   "execution_count": 92,
   "metadata": {},
   "outputs": [
    {
     "data": {
      "text/html": [
       "<div>\n",
       "<style scoped>\n",
       "    .dataframe tbody tr th:only-of-type {\n",
       "        vertical-align: middle;\n",
       "    }\n",
       "\n",
       "    .dataframe tbody tr th {\n",
       "        vertical-align: top;\n",
       "    }\n",
       "\n",
       "    .dataframe thead th {\n",
       "        text-align: right;\n",
       "    }\n",
       "</style>\n",
       "<table border=\"1\" class=\"dataframe\">\n",
       "  <thead>\n",
       "    <tr style=\"text-align: right;\">\n",
       "      <th></th>\n",
       "      <th>user_id</th>\n",
       "      <th>features</th>\n",
       "      <th>target_ids</th>\n",
       "      <th>all_prods</th>\n",
       "      <th>num_targets</th>\n",
       "    </tr>\n",
       "  </thead>\n",
       "  <tbody>\n",
       "    <tr>\n",
       "      <th>0</th>\n",
       "      <td>260</td>\n",
       "      <td>[74.0, 51.0, 90.0, 13487.0, 66893.0, 5469736.0...</td>\n",
       "      <td>[66893, 158, 709]</td>\n",
       "      <td>[66893, 9496, 64615, 5469736, 13487, 10163, 0]</td>\n",
       "      <td>7</td>\n",
       "    </tr>\n",
       "    <tr>\n",
       "      <th>1</th>\n",
       "      <td>353</td>\n",
       "      <td>[90.0, 35.0, 9.0, 105764.0, 87886.0, 69372.0, ...</td>\n",
       "      <td>[2321, 2322, 407, 478, 80460, 69669]</td>\n",
       "      <td>[7071972, 97945, 478, 20269, 4443, 584, 57342,...</td>\n",
       "      <td>52</td>\n",
       "    </tr>\n",
       "    <tr>\n",
       "      <th>2</th>\n",
       "      <td>400</td>\n",
       "      <td>[84.0, 35.0, 20.0, 3817507.0, 0.0, 94333.0, 11...</td>\n",
       "      <td>[61053, 981, 177, 20286, 20289, 10198]</td>\n",
       "      <td>[94333, 5469728, 3817507, 45459, 407, 61053, 3...</td>\n",
       "      <td>31</td>\n",
       "    </tr>\n",
       "    <tr>\n",
       "      <th>3</th>\n",
       "      <td>525</td>\n",
       "      <td>[84.0, 90.0, 20.0, 709.0, 166.0, 55133.0, 75.6...</td>\n",
       "      <td>[709, 25645, 57174]</td>\n",
       "      <td>[709, 7397, 55133, 3817484, 166]</td>\n",
       "      <td>5</td>\n",
       "    </tr>\n",
       "    <tr>\n",
       "      <th>4</th>\n",
       "      <td>576</td>\n",
       "      <td>[20.0, 9.0, 119.0, 177.0, 2600.0, 10757.0, 103...</td>\n",
       "      <td>[177, 102]</td>\n",
       "      <td>[2600, 177, 7064842, 60105, 52657, 0, 4443, 10...</td>\n",
       "      <td>29</td>\n",
       "    </tr>\n",
       "  </tbody>\n",
       "</table>\n",
       "</div>"
      ],
      "text/plain": [
       "   user_id                                           features  \\\n",
       "0      260  [74.0, 51.0, 90.0, 13487.0, 66893.0, 5469736.0...   \n",
       "1      353  [90.0, 35.0, 9.0, 105764.0, 87886.0, 69372.0, ...   \n",
       "2      400  [84.0, 35.0, 20.0, 3817507.0, 0.0, 94333.0, 11...   \n",
       "3      525  [84.0, 90.0, 20.0, 709.0, 166.0, 55133.0, 75.6...   \n",
       "4      576  [20.0, 9.0, 119.0, 177.0, 2600.0, 10757.0, 103...   \n",
       "\n",
       "                               target_ids  \\\n",
       "0                       [66893, 158, 709]   \n",
       "1    [2321, 2322, 407, 478, 80460, 69669]   \n",
       "2  [61053, 981, 177, 20286, 20289, 10198]   \n",
       "3                     [709, 25645, 57174]   \n",
       "4                              [177, 102]   \n",
       "\n",
       "                                           all_prods  num_targets  \n",
       "0     [66893, 9496, 64615, 5469736, 13487, 10163, 0]            7  \n",
       "1  [7071972, 97945, 478, 20269, 4443, 584, 57342,...           52  \n",
       "2  [94333, 5469728, 3817507, 45459, 407, 61053, 3...           31  \n",
       "3                   [709, 7397, 55133, 3817484, 166]            5  \n",
       "4  [2600, 177, 7064842, 60105, 52657, 0, 4443, 10...           29  "
      ]
     },
     "execution_count": 92,
     "metadata": {},
     "output_type": "execute_result"
    }
   ],
   "source": [
    "train.head()"
   ]
  },
  {
   "cell_type": "code",
   "execution_count": 98,
   "metadata": {},
   "outputs": [
    {
     "data": {
      "text/plain": [
       "<77700x12 sparse matrix of type '<class 'numpy.float32'>'\n",
       "\twith 881013 stored elements in Compressed Sparse Row format>"
      ]
     },
     "execution_count": 98,
     "metadata": {},
     "output_type": "execute_result"
    }
   ],
   "source": [
    "sp.csr_matrix(np.nan_to_num(user_features))"
   ]
  },
  {
   "cell_type": "code",
   "execution_count": 99,
   "metadata": {},
   "outputs": [],
   "source": [
    "#, user_features=sp.csr_matrix(np.nan_to_num(user_features))"
   ]
  },
  {
   "cell_type": "code",
   "execution_count": 100,
   "metadata": {},
   "outputs": [
    {
     "name": "stdout",
     "output_type": "stream",
     "text": [
      "fitted\n"
     ]
    }
   ],
   "source": [
    "model = LightFM(no_components=200, loss='warp', learning_rate=0.02, max_sampled=400, random_state=1, user_alpha=1e-05)\n",
    "\n",
    "    \n",
    "model.fit_partial(X_train, epochs=10, num_threads=50)\n",
    "print('fitted')\n",
    "model.batch_setup(\n",
    "    item_chunks={0: np.arange(len(product_ids_unique))},\n",
    "    n_process=50, \n",
    ")\n",
    "res = model.batch_predict(chunk_id=0, user_ids=user_ids, top_k=50)\n",
    "model.batch_cleanup()\n"
   ]
  },
  {
   "cell_type": "code",
   "execution_count": 140,
   "metadata": {},
   "outputs": [],
   "source": [
    "model.batch_setup(\n",
    "    item_chunks={0: np.arange(len(product_ids_unique))},\n",
    "    n_process=50, \n",
    ")\n",
    "res2 = model.batch_predict(chunk_id=0, user_ids=user_ids, top_k=200)\n",
    "model.batch_cleanup()\n"
   ]
  },
  {
   "cell_type": "code",
   "execution_count": 141,
   "metadata": {},
   "outputs": [
    {
     "data": {
      "text/plain": [
       "(array([  0, 442, 166, 135, 170, 443, 623, 594, 347, 192, 681, 101, 169,\n",
       "        646, 190, 102,  62,  51, 598, 137, 164, 595, 235,  61, 452,  60,\n",
       "        100, 643, 104, 349, 599, 275,  77,  75, 246, 162, 288, 368, 660,\n",
       "        345, 103,  48, 437,  86, 252, 547, 664,  33, 699, 687,  87, 630,\n",
       "        607, 730, 680,  80, 316, 167, 409, 269,  54, 253, 685, 384, 373,\n",
       "        254, 338, 136, 455,  81, 294, 474,  53, 168, 117, 464,  95,  76,\n",
       "        161,  78, 726,  82,  73, 580, 629,  18, 513, 110,  79, 439, 291,\n",
       "         83, 122, 666, 109, 324,  88, 309, 674, 650, 142, 397, 113, 377,\n",
       "        413, 236, 155, 658, 422, 635, 140, 692,  34, 639, 198, 374, 108,\n",
       "        306, 107, 396, 467, 408, 557, 339, 139,  92,  85, 220, 524, 606,\n",
       "        652, 632, 577, 548, 106, 689,  38, 564, 676, 157, 276, 354, 398,\n",
       "         94, 444, 115, 633, 141, 143,  74, 237,  97, 146, 120,  23, 145,\n",
       "        552, 637, 156, 534, 264,   3, 569,  84, 114, 290, 271, 197, 160,\n",
       "        105, 112, 391, 405, 385, 359, 221, 624, 272, 526, 163, 733, 348,\n",
       "        315, 421, 404, 232, 411, 138, 165, 554, 426, 651, 553, 686, 614,\n",
       "        382, 596, 331, 572, 634]),\n",
       " array([3.3688562 , 3.1652708 , 3.130927  , 2.5211926 , 2.3414094 ,\n",
       "        2.334184  , 2.1033783 , 2.0442088 , 2.0389519 , 2.026805  ,\n",
       "        2.0215263 , 2.0204225 , 1.9095345 , 1.9062245 , 1.8923411 ,\n",
       "        1.8825829 , 1.8791938 , 1.8749793 , 1.860385  , 1.8130386 ,\n",
       "        1.8102924 , 1.7910066 , 1.7684748 , 1.6833253 , 1.6713389 ,\n",
       "        1.6667018 , 1.6463678 , 1.624175  , 1.6192265 , 1.6135626 ,\n",
       "        1.5791694 , 1.5786933 , 1.5334846 , 1.4772232 , 1.4756539 ,\n",
       "        1.4674617 , 1.4594104 , 1.4516885 , 1.4462762 , 1.4425086 ,\n",
       "        1.4382826 , 1.4317365 , 1.4218138 , 1.3769745 , 1.375669  ,\n",
       "        1.375164  , 1.362688  , 1.3607643 , 1.3530562 , 1.3236976 ,\n",
       "        1.3232489 , 1.3032784 , 1.3010161 , 1.2330189 , 1.2306933 ,\n",
       "        1.21224   , 1.2101209 , 1.2074637 , 1.2030007 , 1.1982388 ,\n",
       "        1.1859673 , 1.1835583 , 1.1788198 , 1.177368  , 1.1704156 ,\n",
       "        1.0960205 , 1.0937392 , 1.0867707 , 1.0831901 , 1.080639  ,\n",
       "        1.0709654 , 1.0630469 , 1.0578215 , 1.0555351 , 1.0537075 ,\n",
       "        1.051842  , 1.0384612 , 1.0381367 , 1.0151013 , 1.012528  ,\n",
       "        1.0096543 , 1.0000846 , 0.99129075, 0.9908818 , 0.967705  ,\n",
       "        0.9597412 , 0.92675865, 0.9157543 , 0.9067781 , 0.899167  ,\n",
       "        0.8964666 , 0.89361554, 0.88418806, 0.88297045, 0.8822119 ,\n",
       "        0.8697506 , 0.8246517 , 0.8149675 , 0.81073266, 0.8107201 ,\n",
       "        0.80402035, 0.79908305, 0.7932862 , 0.7916857 , 0.7650973 ,\n",
       "        0.76171446, 0.75566673, 0.74786204, 0.7443757 , 0.7332247 ,\n",
       "        0.7282786 , 0.72483367, 0.7240699 , 0.723646  , 0.72336227,\n",
       "        0.7139827 , 0.71012545, 0.7047018 , 0.70348537, 0.69859505,\n",
       "        0.6958544 , 0.6925681 , 0.68548197, 0.6811613 , 0.6787303 ,\n",
       "        0.6628368 , 0.6498887 , 0.64524865, 0.6445273 , 0.6366307 ,\n",
       "        0.6316667 , 0.62291116, 0.6202334 , 0.61489403, 0.6104418 ,\n",
       "        0.6095695 , 0.609515  , 0.60396224, 0.6025873 , 0.5898256 ,\n",
       "        0.58613706, 0.5832951 , 0.5791184 , 0.577176  , 0.57557964,\n",
       "        0.57289964, 0.5672027 , 0.5658489 , 0.5594122 , 0.5592476 ,\n",
       "        0.5551656 , 0.55392087, 0.55269045, 0.5477955 , 0.53573906,\n",
       "        0.52494013, 0.52420074, 0.5141113 , 0.50812066, 0.5008707 ,\n",
       "        0.5003634 , 0.49695837, 0.49262047, 0.490037  , 0.48560184,\n",
       "        0.4851041 , 0.48419425, 0.47882643, 0.47450304, 0.47194013,\n",
       "        0.4718715 , 0.46774358, 0.45692912, 0.4521399 , 0.443399  ,\n",
       "        0.4284382 , 0.4243573 , 0.40982354, 0.40932614, 0.40209126,\n",
       "        0.40068626, 0.39151245, 0.38445866, 0.3832355 , 0.36479262,\n",
       "        0.34542194, 0.34457034, 0.3442316 , 0.34120905, 0.3404436 ,\n",
       "        0.33479458, 0.3337301 , 0.32773498, 0.32140434, 0.32043487,\n",
       "        0.309327  , 0.30654314, 0.2938046 , 0.29366294, 0.29190797],\n",
       "       dtype=float32))"
      ]
     },
     "execution_count": 141,
     "metadata": {},
     "output_type": "execute_result"
    }
   ],
   "source": [
    "res2[0]"
   ]
  },
  {
   "cell_type": "code",
   "execution_count": 182,
   "metadata": {},
   "outputs": [
    {
     "data": {
      "text/plain": [
       "array([       0,    66893,    10163,     9496,    10265,    66915,\n",
       "        3497570,  2586485,    45457,    13487,  5469736,     5634,\n",
       "          10198,  4033462,    13481,     5642,     1598,      709,\n",
       "        2833439,     9501,    10095,  2589314,    17145,     1597,\n",
       "          67281,     1590,     5631,  3818498,     5650,    45459,\n",
       "        2833446,    22161,     2322,     2305,    19562,    10016,\n",
       "          25645,    51487,  4592908,    45256,     5649,      655,\n",
       "          64615,     4443,    20285,    92368,  5044801,      285,\n",
       "        6005364,  5479493,     4444,  3817487,  3302557,  9152094,\n",
       "        5469728,     2325,    37061,    10189,    59094,    21827,\n",
       "            876,    20286,  5479153,    57251,    55130,    20289,\n",
       "          39692,     9500,    67407,     2544,    26625,    72006,\n",
       "            821,    10196,     7092,    69372,     5187,     2321,\n",
       "           9979,     2323,  7324996,     2575,     2271,   100849,\n",
       "        3817484,      158,    76838,     6347,     2324,    65349,\n",
       "          26590,     2600,     7401,  5045462,     6345,    37455,\n",
       "           4517,    36153,  5061260,  4235874,     9607,    57622,\n",
       "           6369,    56899,    59980,    17314,     9911,  4276378,\n",
       "          61053,  3817529,     9593,  5481688,      286,  3817547,\n",
       "          14264,    55133,     6340,    31277,     6339,    57621,\n",
       "          69669,    58962,    94566,    39726,     9590,     5178,\n",
       "           4440,    14836,    78247,  3302554,  4274956,  3817507,\n",
       "         100789,    92418,     6337,  5479797,      455,    95961,\n",
       "        5062860,     9936,    22194,    45924,    57733,     5182,\n",
       "          66966,     6371,  3817508,     9598,     9610,     2272,\n",
       "          17328,     5217,     9733,     7397,      176,     9696,\n",
       "          93798,  3817542,     9932,    84318,    21545,       50,\n",
       "          96306,     2628,     6370,    26335,    22035,    14248,\n",
       "           9959,     6131,     6368,    57342,    58170,    57252,\n",
       "          47780,    14838,  3497585,    22045,    78672,    10049,\n",
       "       13550019,    45458,    36666,    60850,    58169,    15986,\n",
       "          59460,     9571,    10115,    94227,    63034,  4274952,\n",
       "          94125,  5479458,  3497447,    57199,  2599278,    39489,\n",
       "          96400,  3817512])"
      ]
     },
     "execution_count": 182,
     "metadata": {},
     "output_type": "execute_result"
    }
   ],
   "source": [
    "res2_copy[0][0]"
   ]
  },
  {
   "cell_type": "code",
   "execution_count": 142,
   "metadata": {},
   "outputs": [],
   "source": [
    "for key in res2.keys():\n",
    "    #print(type(res2[key][0]))\n",
    "    res2[key] = list(res2[key])\n",
    "    res2[key][0] = le.inverse_transform(res2[key][0])"
   ]
  },
  {
   "cell_type": "code",
   "execution_count": 145,
   "metadata": {},
   "outputs": [],
   "source": [
    "import copy"
   ]
  },
  {
   "cell_type": "code",
   "execution_count": 147,
   "metadata": {},
   "outputs": [],
   "source": [
    "res2_copy = copy.copy(res2)\n",
    "dkeys = res2.keys()"
   ]
  },
  {
   "cell_type": "code",
   "execution_count": 152,
   "metadata": {},
   "outputs": [],
   "source": [
    "import pickle"
   ]
  },
  {
   "cell_type": "code",
   "execution_count": 155,
   "metadata": {},
   "outputs": [],
   "source": [
    "with open('top200.pkl', 'wb') as fp:\n",
    "    pickle.dump(res2_copy, fp, pickle.HIGHEST_PROTOCOL)"
   ]
  },
  {
   "cell_type": "code",
   "execution_count": 183,
   "metadata": {},
   "outputs": [],
   "source": [
    "with open('le_users.pkl', 'wb') as fp:\n",
    "    pickle.dump(le1, fp, pickle.HIGHEST_PROTOCOL)"
   ]
  },
  {
   "cell_type": "code",
   "execution_count": null,
   "metadata": {},
   "outputs": [],
   "source": [
    "uids = le1.transform(train.user_id)\n",
    "itids = le.transform(items_feats.product_id)"
   ]
  },
  {
   "cell_type": "code",
   "execution_count": 156,
   "metadata": {},
   "outputs": [],
   "source": [
    "train['uid_bias'] = model.user_biases[le1.transform(train.user_id)]\n",
    "items_feats['itid_bias'] = model.item_biases[le.transform(items_feats.product_id)]"
   ]
  },
  {
   "cell_type": "code",
   "execution_count": 166,
   "metadata": {},
   "outputs": [],
   "source": [
    "user_emb = model.user_embeddings[uids]\n",
    "item_emb = model.item_embeddings[itids]"
   ]
  },
  {
   "cell_type": "code",
   "execution_count": 176,
   "metadata": {},
   "outputs": [],
   "source": [
    "train['uid_embedding'] = list(user_emb)"
   ]
  },
  {
   "cell_type": "code",
   "execution_count": 178,
   "metadata": {},
   "outputs": [
    {
     "data": {
      "text/html": [
       "<div>\n",
       "<style scoped>\n",
       "    .dataframe tbody tr th:only-of-type {\n",
       "        vertical-align: middle;\n",
       "    }\n",
       "\n",
       "    .dataframe tbody tr th {\n",
       "        vertical-align: top;\n",
       "    }\n",
       "\n",
       "    .dataframe thead th {\n",
       "        text-align: right;\n",
       "    }\n",
       "</style>\n",
       "<table border=\"1\" class=\"dataframe\">\n",
       "  <thead>\n",
       "    <tr style=\"text-align: right;\">\n",
       "      <th></th>\n",
       "      <th>user_id</th>\n",
       "      <th>features</th>\n",
       "      <th>target_ids</th>\n",
       "      <th>all_prods</th>\n",
       "      <th>num_targets</th>\n",
       "      <th>uid_bias</th>\n",
       "      <th>uid_embedding</th>\n",
       "    </tr>\n",
       "  </thead>\n",
       "  <tbody>\n",
       "    <tr>\n",
       "      <th>0</th>\n",
       "      <td>260</td>\n",
       "      <td>[74.0, 51.0, 90.0, 13487.0, 66893.0, 5469736.0...</td>\n",
       "      <td>[66893, 158, 709]</td>\n",
       "      <td>[66893, 9496, 64615, 5469736, 13487, 10163, 0]</td>\n",
       "      <td>7</td>\n",
       "      <td>-0.310526</td>\n",
       "      <td>[-0.030893221, 0.022288354, 0.12546153, -0.051...</td>\n",
       "    </tr>\n",
       "    <tr>\n",
       "      <th>1</th>\n",
       "      <td>353</td>\n",
       "      <td>[90.0, 35.0, 9.0, 105764.0, 87886.0, 69372.0, ...</td>\n",
       "      <td>[2321, 2322, 407, 478, 80460, 69669]</td>\n",
       "      <td>[7071972, 97945, 478, 20269, 4443, 584, 57342,...</td>\n",
       "      <td>52</td>\n",
       "      <td>-0.832477</td>\n",
       "      <td>[-0.07443411, -0.0976364, 0.009338922, 0.03904...</td>\n",
       "    </tr>\n",
       "    <tr>\n",
       "      <th>2</th>\n",
       "      <td>400</td>\n",
       "      <td>[84.0, 35.0, 20.0, 3817507.0, 0.0, 94333.0, 11...</td>\n",
       "      <td>[61053, 981, 177, 20286, 20289, 10198]</td>\n",
       "      <td>[94333, 5469728, 3817507, 45459, 407, 61053, 3...</td>\n",
       "      <td>31</td>\n",
       "      <td>-0.628658</td>\n",
       "      <td>[0.01650102, -0.104130626, -0.013346228, 0.096...</td>\n",
       "    </tr>\n",
       "    <tr>\n",
       "      <th>3</th>\n",
       "      <td>525</td>\n",
       "      <td>[84.0, 90.0, 20.0, 709.0, 166.0, 55133.0, 75.6...</td>\n",
       "      <td>[709, 25645, 57174]</td>\n",
       "      <td>[709, 7397, 55133, 3817484, 166]</td>\n",
       "      <td>5</td>\n",
       "      <td>-0.257386</td>\n",
       "      <td>[-0.009750665, -0.070757255, -0.0064769117, 0....</td>\n",
       "    </tr>\n",
       "    <tr>\n",
       "      <th>4</th>\n",
       "      <td>576</td>\n",
       "      <td>[20.0, 9.0, 119.0, 177.0, 2600.0, 10757.0, 103...</td>\n",
       "      <td>[177, 102]</td>\n",
       "      <td>[2600, 177, 7064842, 60105, 52657, 0, 4443, 10...</td>\n",
       "      <td>29</td>\n",
       "      <td>-0.626924</td>\n",
       "      <td>[-0.058275014, -0.03513433, 0.07834611, 0.0357...</td>\n",
       "    </tr>\n",
       "  </tbody>\n",
       "</table>\n",
       "</div>"
      ],
      "text/plain": [
       "   user_id                                           features  \\\n",
       "0      260  [74.0, 51.0, 90.0, 13487.0, 66893.0, 5469736.0...   \n",
       "1      353  [90.0, 35.0, 9.0, 105764.0, 87886.0, 69372.0, ...   \n",
       "2      400  [84.0, 35.0, 20.0, 3817507.0, 0.0, 94333.0, 11...   \n",
       "3      525  [84.0, 90.0, 20.0, 709.0, 166.0, 55133.0, 75.6...   \n",
       "4      576  [20.0, 9.0, 119.0, 177.0, 2600.0, 10757.0, 103...   \n",
       "\n",
       "                               target_ids  \\\n",
       "0                       [66893, 158, 709]   \n",
       "1    [2321, 2322, 407, 478, 80460, 69669]   \n",
       "2  [61053, 981, 177, 20286, 20289, 10198]   \n",
       "3                     [709, 25645, 57174]   \n",
       "4                              [177, 102]   \n",
       "\n",
       "                                           all_prods  num_targets  uid_bias  \\\n",
       "0     [66893, 9496, 64615, 5469736, 13487, 10163, 0]            7 -0.310526   \n",
       "1  [7071972, 97945, 478, 20269, 4443, 584, 57342,...           52 -0.832477   \n",
       "2  [94333, 5469728, 3817507, 45459, 407, 61053, 3...           31 -0.628658   \n",
       "3                   [709, 7397, 55133, 3817484, 166]            5 -0.257386   \n",
       "4  [2600, 177, 7064842, 60105, 52657, 0, 4443, 10...           29 -0.626924   \n",
       "\n",
       "                                       uid_embedding  \n",
       "0  [-0.030893221, 0.022288354, 0.12546153, -0.051...  \n",
       "1  [-0.07443411, -0.0976364, 0.009338922, 0.03904...  \n",
       "2  [0.01650102, -0.104130626, -0.013346228, 0.096...  \n",
       "3  [-0.009750665, -0.070757255, -0.0064769117, 0....  \n",
       "4  [-0.058275014, -0.03513433, 0.07834611, 0.0357...  "
      ]
     },
     "execution_count": 178,
     "metadata": {},
     "output_type": "execute_result"
    }
   ],
   "source": [
    "train.head()"
   ]
  },
  {
   "cell_type": "code",
   "execution_count": 179,
   "metadata": {},
   "outputs": [],
   "source": [
    "train.to_csv('user_feats_lightfm.csv')"
   ]
  },
  {
   "cell_type": "code",
   "execution_count": 180,
   "metadata": {},
   "outputs": [],
   "source": [
    "items_feats['itid_embedding'] = list(model.item_embeddings[itids])\n",
    "items_feats.to_csv('item_feats_lightfm.csv')"
   ]
  },
  {
   "cell_type": "code",
   "execution_count": 184,
   "metadata": {},
   "outputs": [],
   "source": [
    "train.to_pickle('user_feats_lightfm.pkl')"
   ]
  },
  {
   "cell_type": "code",
   "execution_count": 185,
   "metadata": {},
   "outputs": [],
   "source": [
    "items_feats.to_pickle('item_feats_lightfm.pkl')"
   ]
  },
  {
   "cell_type": "code",
   "execution_count": null,
   "metadata": {},
   "outputs": [],
   "source": []
  }
 ],
 "metadata": {
  "kernelspec": {
   "display_name": "sber-venv",
   "language": "python",
   "name": "sber-venv"
  },
  "language_info": {
   "codemirror_mode": {
    "name": "ipython",
    "version": 3
   },
   "file_extension": ".py",
   "mimetype": "text/x-python",
   "name": "python",
   "nbconvert_exporter": "python",
   "pygments_lexer": "ipython3",
   "version": "3.6.12"
  },
  "toc": {
   "nav_menu": {},
   "number_sections": true,
   "sideBar": true,
   "skip_h1_title": false,
   "title_cell": "Table of Contents",
   "title_sidebar": "Contents",
   "toc_cell": false,
   "toc_position": {},
   "toc_section_display": true,
   "toc_window_display": false
  }
 },
 "nbformat": 4,
 "nbformat_minor": 2
}
